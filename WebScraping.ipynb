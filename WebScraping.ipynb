{
 "cells": [
  {
   "cell_type": "markdown",
   "metadata": {},
   "source": [
    "#WebScraping www.landwatch.com"
   ]
  },
  {
   "cell_type": "code",
   "execution_count": 1,
   "metadata": {
    "collapsed": false
   },
   "outputs": [],
   "source": [
    "import urllib2\n",
    "from bs4 import BeautifulSoup\n",
    "import openpyxl"
   ]
  },
  {
   "cell_type": "markdown",
   "metadata": {},
   "source": [
    "## make list from pagination"
   ]
  },
  {
   "cell_type": "code",
   "execution_count": 87,
   "metadata": {
    "collapsed": false
   },
   "outputs": [],
   "source": [
    "url = \"http://www.landwatch.com/default.aspx?ct=r&type=5,75;268,6843&pg=\"\n",
    "req = urllib2.Request('www.example.com', headers={ 'User-Agent': 'Mozilla/5.0' })\n",
    "\n",
    "beginpage = 1\n",
    "lastpage = 5  #it goes to 101\n",
    "grablist = []\n",
    "\n",
    "for n in range(beginpage,lastpage):\n",
    "    grablist.append(url+str(n))\n",
    "    \n",
    "#grablist"
   ]
  },
  {
   "cell_type": "markdown",
   "metadata": {},
   "source": [
    "## building list from recursive read from pagination to detail url"
   ]
  },
  {
   "cell_type": "code",
   "execution_count": 88,
   "metadata": {
    "collapsed": false
   },
   "outputs": [],
   "source": [
    "getthis = \"http://www.landwatch.com/Texas_land_for_sale\"\n",
    "\n",
    "getme = []  #this is the list to get\n",
    "\n",
    "def graballurl(url):\n",
    "  req = urllib2.Request(url, headers={ 'User-Agent': 'Mozilla/5.0' })\n",
    "  html = urllib2.urlopen(req).read()\n",
    "  soup = BeautifulSoup(html)\n",
    "\n",
    "  table = soup.findAll(\"div\", { \"class\" : \"displaytype_1\" })\n",
    "\n",
    "  for a in range(len(table)):\n",
    "    getme.append(table[a]('div')[4]('a')[0]['href'])"
   ]
  },
  {
   "cell_type": "markdown",
   "metadata": {},
   "source": [
    "## Fetch the data"
   ]
  },
  {
   "cell_type": "code",
   "execution_count": 89,
   "metadata": {
    "collapsed": false
   },
   "outputs": [
    {
     "name": "stdout",
     "output_type": "stream",
     "text": [
      "http://www.landwatch.com/default.aspx?ct=r&type=5,75;268,6843&pg=1\n",
      "http://www.landwatch.com/default.aspx?ct=r&type=5,75;268,6843&pg=2\n",
      "http://www.landwatch.com/default.aspx?ct=r&type=5,75;268,6843&pg=3\n",
      "http://www.landwatch.com/default.aspx?ct=r&type=5,75;268,6843&pg=4\n"
     ]
    }
   ],
   "source": [
    "for a in grablist:\n",
    "    graballurl(a)\n",
    "    print a"
   ]
  },
  {
   "cell_type": "markdown",
   "metadata": {},
   "source": [
    "## fetch data from detailed url"
   ]
  },
  {
   "cell_type": "code",
   "execution_count": 90,
   "metadata": {
    "collapsed": false,
    "scrolled": true
   },
   "outputs": [
    {
     "name": "stdout",
     "output_type": "stream",
     "text": [
      "/Reeves-County-Texas-Land-for-sale/pid/318064958\n",
      "/Hardin-County-Texas-Land-for-sale/pid/204681244\n",
      "/Ward-County-Texas-Homesite-for-sale/pid/144011567\n",
      "/Parker-County-Texas-Farms-and-Ranches-for-sale/pid/200040980\n",
      "/Newton-County-Texas-Land-for-sale/pid/289131190\n",
      "/Hudspeth-County-Texas-Farms-and-Ranches-for-sale/pid/200708227\n",
      "/Milam-County-Texas-Land-for-sale/pid/312035645\n",
      "/Trinity-County-Texas-Land-for-sale/pid/319541630\n",
      "/Liberty-County-Texas-Land-for-sale/pid/319541609\n",
      "/Ward-County-Texas-Homesite-for-sale/pid/144010473\n",
      "/Ward-County-Texas-Homesite-for-sale/pid/144011579\n",
      "/Liberty-County-Texas-Land-for-sale/pid/303922044\n",
      "/Parker-County-Texas-Farms-and-Ranches-for-sale/pid/200042523\n",
      "/Nacogdoches-County-Texas-Land-for-sale/pid/200712531\n",
      "/Lamb-County-Texas-Farms-and-Ranches-for-sale/pid/289358492\n",
      "/Potter-County-Texas-Farms-and-Ranches-for-sale/pid/289042026\n",
      "/Hudspeth-County-Texas-Land-for-sale/pid/200727106\n",
      "/Hardin-County-Texas-Land-for-sale/pid/319541730\n",
      "/Parker-County-Texas-Land-for-sale/pid/284799466\n",
      "/Walker-County-Texas-Land-for-sale/pid/319541732\n",
      "/Hudspeth-County-Texas-Farms-and-Ranches-for-sale/pid/144011226\n",
      "/Hill-County-Texas-Land-for-sale/pid/310172842\n",
      "/Liberty-County-Texas-Land-for-sale/pid/319541680\n",
      "/Jasper-County-Texas-Land-for-sale/pid/289211320\n",
      "/Tyler-County-Texas-Land-for-sale/pid/319541687\n",
      "/Texas-Land-for-sale/pid/200098130\n",
      "/Walker-County-Texas-Land-for-sale/pid/200349371\n",
      "/Falls-County-Texas-Farms-and-Ranches-for-sale/pid/314378254\n",
      "/Hudspeth-County-Texas-Homesite-for-sale/pid/144010007\n",
      "/Palo-Pinto-County-Texas-Farms-and-Ranches-for-sale/pid/284799472\n",
      "/Houston-County-Texas-Land-for-sale/pid/319541689\n",
      "/Menard-County-Texas-Land-for-sale/pid/318046263\n",
      "/Hudspeth-County-Texas-Farms-and-Ranches-for-sale/pid/200708169\n",
      "/Ward-County-Texas-Homesite-for-sale/pid/144010551\n",
      "/Walker-County-Texas-Land-for-sale/pid/200349380\n",
      "/Gillespie-County-Texas-Land-for-sale/pid/318046369\n",
      "/Brewster-County-Texas-Land-for-sale/pid/204873685\n",
      "/Hill-County-Texas-Land-for-sale/pid/308582097\n",
      "/McLennan-County-Texas-Farms-and-Ranches-for-sale/pid/308630143\n",
      "/Limestone-County-Texas-Land-for-sale/pid/314730930\n",
      "/San-Jacinto-County-Texas-Land-for-sale/pid/319541725\n",
      "/Duval-County-Texas-Land-for-sale/pid/318046274\n",
      "/Duval-County-Texas-Land-for-sale/pid/204786166\n",
      "/Hudspeth-County-Texas-Land-for-sale/pid/318065008\n",
      "/El-Paso-County-Texas-Land-for-sale/pid/289353231\n",
      "/Ward-County-Texas-Homesite-for-sale/pid/144011569\n",
      "/Parker-County-Texas-Land-for-sale/pid/283158022\n",
      "/Ward-County-Texas-Homesite-for-sale/pid/144010472\n",
      "/Hudspeth-County-Texas-Land-for-sale/pid/200727144\n",
      "/Shelby-County-Texas-Land-for-sale/pid/289322478\n",
      "/El-Paso-County-Texas-Land-for-sale/pid/289316241\n",
      "/Ward-County-Texas-Homesite-for-sale/pid/144011576\n",
      "/Hudspeth-County-Texas-Land-for-sale/pid/204872239\n",
      "/Coryell-County-Texas-Land-for-sale/pid/312035646\n",
      "/Hudspeth-County-Texas-Land-for-sale/pid/144011228\n",
      "/Maverick-County-Texas-Farms-and-Ranches-for-sale/pid/289383445\n",
      "/Gillespie-County-Texas-Land-for-sale/pid/322503217\n",
      "/El-Paso-County-Texas-Land-for-sale/pid/289325521\n",
      "/Jasper-County-Texas-Land-for-sale/pid/313398183\n",
      "/Val-Verde-County-Texas-Land-for-sale/pid/318046464\n"
     ]
    }
   ],
   "source": [
    "headhttp = \"http://www.landwatch.com\"\n",
    "\n",
    "xllist = []\n",
    "\n",
    "def getdetail(url):\n",
    "  req = urllib2.Request(headhttp + str(url), headers={ 'User-Agent': 'Mozilla/5.0' })\n",
    "  html = urllib2.urlopen(req).read()\n",
    "  soup = BeautifulSoup(html)\n",
    "  return soup\n",
    "\n",
    "def buildlist(url):\n",
    "  inlist = []\n",
    "  inlist.append(url)\n",
    "  inlist.append(soup.find('div',{\"class\":\"detTitle\"}).string)\n",
    "  inlist.append(soup.find('div',{\"class\":\"margin marginright marginbottom\"}).text)\n",
    "\n",
    "  ab = soup.findAll('div',{\"class\":\"pattvalue\"})\n",
    "  for a in ab:\n",
    "    #print a.string\n",
    "    inlist.append(a.string)\n",
    "  return inlist\n",
    "\n",
    "for i in getme:\n",
    "  soup = getdetail(i)\n",
    "  xllist.append(buildlist(i))\n",
    "  print i\n"
   ]
  },
  {
   "cell_type": "markdown",
   "metadata": {},
   "source": [
    "##write to xlworkbook"
   ]
  },
  {
   "cell_type": "code",
   "execution_count": 91,
   "metadata": {
    "collapsed": false
   },
   "outputs": [],
   "source": [
    "from openpyxl import Workbook\n",
    "\n",
    "wb = Workbook()\n",
    "dest_filename = 'C:/book.xlsx'\n",
    "\n",
    "ws1 = wb.active\n",
    "ws1.title = \"range names\"\n",
    "\n",
    "abjad = [\"A\",\"B\",\"C\",\"D\",\"E\",\"F\",\"G\",\"H\",\"I\",\"J\",\"K\",\"L\",\"M\",\"N\",\"O\",\"P\",\"Q\",\"R\",\"S\",\"T\",\"U\",\"V\",\"W\",\"X\",\"Y\",\"Z\",\"AA\",\"AB\",\"AC\",\"AD\",\"AE\",\"AF\",\"AG\",\"AH\",\"AI\",\"AJ\",\"AK\",\"AL\",\"AM\",\"AN\",\"AO\",\"AP\",\"AQ\",\"AR\",\"AS\",\"AT\",\"AU\",\"AV\",\"AW\",\"AX\",\"AY\",\"AZ\"]\n",
    "xlhead = [\"Url\",\"Header\",\"Description\",\"Type\",\"Area\",\"Price\",\"Etc\"]\n",
    "\n",
    "for i in enumerate(xlhead):\n",
    "    cl = str(abjad[i[0]])+\"1\"\n",
    "    ws1[cl] = i[1]\n",
    "\n",
    "inx = 2\n",
    "for iss in xllist:\n",
    "    for ind in range(len(iss)):\n",
    "      cl = str(abjad[ind])+ str(inx)\n",
    "      ws1[cl] = iss[ind]\n",
    "    inx = inx + 1\n",
    "    \n",
    "wb.save(filename = dest_filename)\n"
   ]
  },
  {
   "cell_type": "code",
   "execution_count": 158,
   "metadata": {
    "collapsed": false
   },
   "outputs": [
    {
     "data": {
      "text/plain": [
       "2284"
      ]
     },
     "execution_count": 158,
     "metadata": {},
     "output_type": "execute_result"
    }
   ],
   "source": []
  },
  {
   "cell_type": "code",
   "execution_count": null,
   "metadata": {
    "collapsed": true
   },
   "outputs": [],
   "source": []
  }
 ],
 "metadata": {
  "kernelspec": {
   "display_name": "Python 2",
   "language": "python",
   "name": "python2"
  },
  "language_info": {
   "codemirror_mode": {
    "name": "ipython",
    "version": 2
   },
   "file_extension": ".py",
   "mimetype": "text/x-python",
   "name": "python",
   "nbconvert_exporter": "python",
   "pygments_lexer": "ipython2",
   "version": "2.7.10"
  }
 },
 "nbformat": 4,
 "nbformat_minor": 0
}
